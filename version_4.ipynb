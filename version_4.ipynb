{
 "cells": [
  {
   "cell_type": "code",
   "execution_count": 2,
   "metadata": {},
   "outputs": [],
   "source": [
    "import pandas as pd\n",
    "import numpy as np\n",
    "import matplotlib.pyplot as plt\n",
    "import seaborn as sns\n",
    "from sklearn.ensemble import HistGradientBoostingRegressor\n",
    "from sklearn.metrics import mean_squared_error\n",
    "from sklearn.linear_model import LinearRegression\n",
    "import itertools\n"
   ]
  },
  {
   "cell_type": "code",
   "execution_count": 3,
   "metadata": {},
   "outputs": [],
   "source": [
    "DIRECTORY = './data/'\n",
    "categories = pd.read_csv(DIRECTORY + 'item_categories.csv')\n",
    "items = pd.read_csv(DIRECTORY + 'items.csv')\n",
    "shops = pd.read_csv(DIRECTORY + 'shops.csv')\n",
    "train = pd.read_csv(DIRECTORY + 'sales_train.csv', parse_dates=['date'], date_format=\"%d.%m.%Y\")\n",
    "test = pd.read_csv(DIRECTORY + 'test.csv')\n",
    "train['year-month'] = train['date'].dt.to_period(\"M\")"
   ]
  },
  {
   "cell_type": "markdown",
   "metadata": {},
   "source": [
    "# clean code"
   ]
  },
  {
   "cell_type": "code",
   "execution_count": 6,
   "metadata": {},
   "outputs": [],
   "source": [
    "# get dfs\n",
    "date = train['year-month'].unique()[0]\n",
    "train_data = train[train['year-month'] == date]\n",
    "test_data = train[train['year-month'] == (date+1)]\n",
    "\n",
    "aggregated_train = train_data.groupby(by=['shop_id', 'item_id'])['item_cnt_day'].sum().to_frame('train')\n",
    "aggregated_test = test_data.groupby(by=['shop_id', 'item_id'])['item_cnt_day'].sum().to_frame('test')\n",
    "\n",
    "alive_shops = np.intersect1d(train_data['shop_id'].unique(), test_data['shop_id'].unique())\n",
    "train_items = train_data[train_data['shop_id'].isin(alive_shops)]['item_id'].unique()\n",
    "test_items = test_data[test_data['shop_id'].isin(alive_shops)]['item_id'].unique()\n",
    "\n",
    "alive_items = np.intersect1d(train_items, test_items)\n",
    "all_combinations = pd.DataFrame(\n",
    "    list(itertools.product(alive_shops, alive_items)),\n",
    "    columns=['shop_id', 'item_id']\n",
    ")\n",
    "\n",
    "train_final = all_combinations.merge(aggregated_train, on=['shop_id', 'item_id'], how='left').fillna(0)\n",
    "test_final = all_combinations.merge(aggregated_test, on=['shop_id', 'item_id'], how='left').fillna(0)"
   ]
  },
  {
   "cell_type": "code",
   "execution_count": 7,
   "metadata": {},
   "outputs": [
    {
     "data": {
      "text/plain": [
       "1.786957916345907"
      ]
     },
     "execution_count": 7,
     "metadata": {},
     "output_type": "execute_result"
    }
   ],
   "source": [
    "together = pd.merge(train_final, test_final, on=['shop_id', 'item_id'])\n",
    "np.mean((together['train'] - together['test'])**2)"
   ]
  },
  {
   "cell_type": "markdown",
   "metadata": {},
   "source": [
    "# reproduce 2"
   ]
  },
  {
   "cell_type": "code",
   "execution_count": 110,
   "metadata": {},
   "outputs": [],
   "source": [
    "# get dfs\n",
    "testing_df = train.set_index(\"year-month\")\n",
    "date = testing_df.index.unique()[0]\n",
    "train_data = testing_df.loc[date]\n",
    "test_data = testing_df.loc[date+1]\n",
    "\n",
    "aggregated_train = train_data.groupby(by=[train_final.index, 'shop_id', 'item_id'], dropna=False)['item_cnt_day'].sum().reset_index()\n",
    "aggregated_test = test_data.groupby(by=[train_final.index, 'shop_id', 'item_id'], dropna=False)['item_cnt_day'].sum().reset_index()\n",
    "\n",
    "alive_shops = np.intersect1d(train_data['shop_id'].unique(), test_data['shop_id'].unique())\n",
    "\n",
    "train_items = train_data['item_id'].unique()\n",
    "test_items = test_data['item_id'].unique()\n",
    "alive_items = np.intersect1d(train_items, test_items)\n",
    "\n",
    "all_combinations = pd.DataFrame(\n",
    "    list(itertools.product(alive_shops, alive_items)),\n",
    "    columns=['shop_id', 'item_id']\n",
    ")\n",
    "\n",
    "train_combined = all_combinations.merge(train_data.reset_index(), on=['shop_id', 'item_id'], how='left').set_index('year-month')\n",
    "test_combined = all_combinations.merge(test_data.reset_index(), on=['shop_id', 'item_id'], how='left').set_index('year-month')"
   ]
  },
  {
   "cell_type": "code",
   "execution_count": 119,
   "metadata": {},
   "outputs": [
    {
     "data": {
      "text/html": [
       "<div>\n",
       "<style scoped>\n",
       "    .dataframe tbody tr th:only-of-type {\n",
       "        vertical-align: middle;\n",
       "    }\n",
       "\n",
       "    .dataframe tbody tr th {\n",
       "        vertical-align: top;\n",
       "    }\n",
       "\n",
       "    .dataframe thead th {\n",
       "        text-align: right;\n",
       "    }\n",
       "</style>\n",
       "<table border=\"1\" class=\"dataframe\">\n",
       "  <thead>\n",
       "    <tr style=\"text-align: right;\">\n",
       "      <th></th>\n",
       "      <th>shop_id</th>\n",
       "      <th>item_id</th>\n",
       "      <th>date</th>\n",
       "      <th>date_block_num</th>\n",
       "      <th>item_price</th>\n",
       "      <th>item_cnt_day</th>\n",
       "    </tr>\n",
       "    <tr>\n",
       "      <th>year-month</th>\n",
       "      <th></th>\n",
       "      <th></th>\n",
       "      <th></th>\n",
       "      <th></th>\n",
       "      <th></th>\n",
       "      <th></th>\n",
       "    </tr>\n",
       "  </thead>\n",
       "  <tbody>\n",
       "    <tr>\n",
       "      <th>NaT</th>\n",
       "      <td>0</td>\n",
       "      <td>27</td>\n",
       "      <td>NaT</td>\n",
       "      <td>NaN</td>\n",
       "      <td>NaN</td>\n",
       "      <td>NaN</td>\n",
       "    </tr>\n",
       "    <tr>\n",
       "      <th>NaT</th>\n",
       "      <td>0</td>\n",
       "      <td>28</td>\n",
       "      <td>NaT</td>\n",
       "      <td>NaN</td>\n",
       "      <td>NaN</td>\n",
       "      <td>NaN</td>\n",
       "    </tr>\n",
       "    <tr>\n",
       "      <th>2013-01</th>\n",
       "      <td>0</td>\n",
       "      <td>32</td>\n",
       "      <td>2013-01-03</td>\n",
       "      <td>0.0</td>\n",
       "      <td>221.0</td>\n",
       "      <td>2.0</td>\n",
       "    </tr>\n",
       "    <tr>\n",
       "      <th>2013-01</th>\n",
       "      <td>0</td>\n",
       "      <td>32</td>\n",
       "      <td>2013-01-21</td>\n",
       "      <td>0.0</td>\n",
       "      <td>221.0</td>\n",
       "      <td>2.0</td>\n",
       "    </tr>\n",
       "    <tr>\n",
       "      <th>2013-01</th>\n",
       "      <td>0</td>\n",
       "      <td>32</td>\n",
       "      <td>2013-01-25</td>\n",
       "      <td>0.0</td>\n",
       "      <td>221.0</td>\n",
       "      <td>1.0</td>\n",
       "    </tr>\n",
       "    <tr>\n",
       "      <th>...</th>\n",
       "      <td>...</td>\n",
       "      <td>...</td>\n",
       "      <td>...</td>\n",
       "      <td>...</td>\n",
       "      <td>...</td>\n",
       "      <td>...</td>\n",
       "    </tr>\n",
       "    <tr>\n",
       "      <th>2013-01</th>\n",
       "      <td>59</td>\n",
       "      <td>22151</td>\n",
       "      <td>2013-01-10</td>\n",
       "      <td>0.0</td>\n",
       "      <td>399.0</td>\n",
       "      <td>1.0</td>\n",
       "    </tr>\n",
       "    <tr>\n",
       "      <th>2013-01</th>\n",
       "      <td>59</td>\n",
       "      <td>22151</td>\n",
       "      <td>2013-01-02</td>\n",
       "      <td>0.0</td>\n",
       "      <td>399.0</td>\n",
       "      <td>1.0</td>\n",
       "    </tr>\n",
       "    <tr>\n",
       "      <th>2013-01</th>\n",
       "      <td>59</td>\n",
       "      <td>22154</td>\n",
       "      <td>2013-01-02</td>\n",
       "      <td>0.0</td>\n",
       "      <td>999.0</td>\n",
       "      <td>1.0</td>\n",
       "    </tr>\n",
       "    <tr>\n",
       "      <th>NaT</th>\n",
       "      <td>59</td>\n",
       "      <td>22160</td>\n",
       "      <td>NaT</td>\n",
       "      <td>NaN</td>\n",
       "      <td>NaN</td>\n",
       "      <td>NaN</td>\n",
       "    </tr>\n",
       "    <tr>\n",
       "      <th>NaT</th>\n",
       "      <td>59</td>\n",
       "      <td>22168</td>\n",
       "      <td>NaT</td>\n",
       "      <td>NaN</td>\n",
       "      <td>NaN</td>\n",
       "      <td>NaN</td>\n",
       "    </tr>\n",
       "  </tbody>\n",
       "</table>\n",
       "<p>364237 rows × 6 columns</p>\n",
       "</div>"
      ],
      "text/plain": [
       "            shop_id  item_id       date  date_block_num  item_price  \\\n",
       "year-month                                                            \n",
       "NaT               0       27        NaT             NaN         NaN   \n",
       "NaT               0       28        NaT             NaN         NaN   \n",
       "2013-01           0       32 2013-01-03             0.0       221.0   \n",
       "2013-01           0       32 2013-01-21             0.0       221.0   \n",
       "2013-01           0       32 2013-01-25             0.0       221.0   \n",
       "...             ...      ...        ...             ...         ...   \n",
       "2013-01          59    22151 2013-01-10             0.0       399.0   \n",
       "2013-01          59    22151 2013-01-02             0.0       399.0   \n",
       "2013-01          59    22154 2013-01-02             0.0       999.0   \n",
       "NaT              59    22160        NaT             NaN         NaN   \n",
       "NaT              59    22168        NaT             NaN         NaN   \n",
       "\n",
       "            item_cnt_day  \n",
       "year-month                \n",
       "NaT                  NaN  \n",
       "NaT                  NaN  \n",
       "2013-01              2.0  \n",
       "2013-01              2.0  \n",
       "2013-01              1.0  \n",
       "...                  ...  \n",
       "2013-01              1.0  \n",
       "2013-01              1.0  \n",
       "2013-01              1.0  \n",
       "NaT                  NaN  \n",
       "NaT                  NaN  \n",
       "\n",
       "[364237 rows x 6 columns]"
      ]
     },
     "execution_count": 119,
     "metadata": {},
     "output_type": "execute_result"
    }
   ],
   "source": [
    "train_combined"
   ]
  },
  {
   "cell_type": "code",
   "execution_count": 111,
   "metadata": {},
   "outputs": [],
   "source": [
    "# fit\n",
    "train_final = train_combined.drop(columns=[\"item_price\", 'date', 'date_block_num'])\n",
    "train_final = train_final.groupby(by=[train_final.index, 'shop_id', 'item_id'], dropna=False)['item_cnt_day'].sum().reset_index()\n",
    "\n",
    "test = test_combined.drop(columns=[\"item_price\", 'date', 'date_block_num'])\n",
    "test = test.groupby(by=[test.index, 'shop_id', 'item_id'], dropna=False)['item_cnt_day'].sum().reset_index()"
   ]
  },
  {
   "cell_type": "code",
   "execution_count": 112,
   "metadata": {},
   "outputs": [
    {
     "data": {
      "text/plain": [
       "1.7862678144888504"
      ]
     },
     "execution_count": 112,
     "metadata": {},
     "output_type": "execute_result"
    }
   ],
   "source": [
    "together = pd.merge(train_final, test, on=['shop_id', 'item_id'])\n",
    "np.mean((together['item_cnt_day_x'] - together['item_cnt_day_y'])**2)"
   ]
  }
 ],
 "metadata": {
  "kernelspec": {
   "display_name": "tradingClub",
   "language": "python",
   "name": "python3"
  },
  "language_info": {
   "codemirror_mode": {
    "name": "ipython",
    "version": 3
   },
   "file_extension": ".py",
   "mimetype": "text/x-python",
   "name": "python",
   "nbconvert_exporter": "python",
   "pygments_lexer": "ipython3",
   "version": "3.12.5"
  }
 },
 "nbformat": 4,
 "nbformat_minor": 2
}
