{
 "cells": [
  {
   "cell_type": "code",
   "execution_count": 2,
   "metadata": {},
   "outputs": [],
   "source": [
    "import pandas as pd\n",
    "import numpy as np\n",
    "import matplotlib.pyplot as plt\n",
    "import seaborn as sns"
   ]
  },
  {
   "cell_type": "code",
   "execution_count": 14,
   "metadata": {},
   "outputs": [],
   "source": [
    "DIRECTORY = './data/'\n",
    "categories = pd.read_csv(DIRECTORY + 'item_categories.csv')\n",
    "items = pd.read_csv(DIRECTORY + 'items.csv')\n",
    "shops = pd.read_csv(DIRECTORY + 'shops.csv')\n",
    "train = pd.read_csv(DIRECTORY + 'sales_train.csv', parse_dates=['date'], date_format='%d.%m.%Y')\n",
    "test = pd.read_csv(DIRECTORY + 'test.csv')\n",
    "train['month'] = train['date'].dt.to_period('M')"
   ]
  },
  {
   "cell_type": "markdown",
   "metadata": {},
   "source": [
    "# 1. Test new items"
   ]
  },
  {
   "cell_type": "code",
   "execution_count": 15,
   "metadata": {},
   "outputs": [
    {
     "data": {
      "text/plain": [
       "363"
      ]
     },
     "execution_count": 15,
     "metadata": {},
     "output_type": "execute_result"
    }
   ],
   "source": [
    "# get new items in \n",
    "new_items = np.setdiff1d(test['item_id'].unique(), train['item_id'].unique())\n",
    "len(new_items)"
   ]
  },
  {
   "cell_type": "code",
   "execution_count": 16,
   "metadata": {},
   "outputs": [
    {
     "data": {
      "text/plain": [
       "count\n",
       "(0, 1]         0.472391\n",
       "(1, 2]         0.195925\n",
       "(2, 3]         0.098819\n",
       "(3, 5]         0.091965\n",
       "(5, 10]        0.075400\n",
       "(10, 100]      0.063024\n",
       "(100, 1000]    0.002475\n",
       "Name: proportion, dtype: float64"
      ]
     },
     "execution_count": 16,
     "metadata": {},
     "output_type": "execute_result"
    }
   ],
   "source": [
    "# Count of each \n",
    "items['subcategory'] = items['item_name'].str.split().str[0]\n",
    "count_categories = items['subcategory'].value_counts()\n",
    "pd.cut(count_categories, bins=[0,1,2,3,5,10,100,1000]).value_counts(normalize=True)"
   ]
  },
  {
   "cell_type": "markdown",
   "metadata": {},
   "source": [
    "# Nov. 2014 Testing"
   ]
  },
  {
   "cell_type": "code",
   "execution_count": 114,
   "metadata": {},
   "outputs": [],
   "source": [
    "# Try testing on Nov. 2014\n",
    "# predict the avg. of the ones with the same first name\n",
    "# predict avg. of ones in same category\n",
    "\n",
    "nov = pd.to_datetime('2014-11-01').to_period('M')\n",
    "nov_train = train[train['month'] == nov]\n",
    "nov_new_items = np.setdiff1d(nov_train['item_id'].unique(), train[train['month'] < nov]['item_id'].unique())\n",
    "nov_stores = nov_train['shop_id'].unique()\n",
    "nov_train_new = nov_train[nov_train['item_id'].isin(nov_new_items)]"
   ]
  },
  {
   "cell_type": "code",
   "execution_count": 115,
   "metadata": {},
   "outputs": [
    {
     "data": {
      "text/plain": [
       "10.711347826086957"
      ]
     },
     "execution_count": 115,
     "metadata": {},
     "output_type": "execute_result"
    }
   ],
   "source": [
    "nov_train_aggregated = nov_train_new.groupby(['shop_id', 'item_id'])['item_cnt_day'].sum().to_frame('answers').reset_index()\n",
    "nov_train_aggregated['clipped'] = np.clip(nov_train_aggregated['answers'], 0, 20)\n",
    "np.square(nov_train_aggregated['clipped']).sum() / len(nov_stores) / len(nov_new_items)"
   ]
  },
  {
   "cell_type": "code",
   "execution_count": 116,
   "metadata": {},
   "outputs": [
    {
     "data": {
      "text/plain": [
       "9.694565217391306"
      ]
     },
     "execution_count": 116,
     "metadata": {},
     "output_type": "execute_result"
    }
   ],
   "source": [
    "# Guessing a constant value (only down to 9.7)\n",
    "guess = nov_train_aggregated['clipped'].sum() / len(nov_stores) / len(nov_new_items)\n",
    "np.square(nov_train_aggregated['clipped'] - 1).sum() / len(nov_stores) / len(nov_new_items) + 1 - len(nov_train_aggregated) / len(nov_stores) / len(nov_new_items)"
   ]
  },
  {
   "cell_type": "code",
   "execution_count": 118,
   "metadata": {},
   "outputs": [],
   "source": [
    "# Guess based on previous first month sales\n",
    "before_nov = train[train['month'] < nov].copy()\n",
    "\n",
    "# calculate first month sales for each item, before grouping by item first name\n",
    "first_month_map = before_nov.groupby(['item_id'])['month'].min() # for each item, get its first month\n",
    "before_nov['first_month'] = before_nov['item_id'].map(first_month_map)\n",
    "first_month_sales = before_nov[before_nov['month'] == before_nov['first_month']].groupby(['item_id', 'shop_id'])['item_cnt_day'].sum().to_frame('first_month_sales').reset_index()\n",
    "first_month_sales = first_month_sales.merge(items, on=['item_id'], how='left')\n",
    "first_month_sales['first_month_sales'] = np.clip(first_month_sales['first_month_sales'], 0, 20)\n",
    "# by category, and by subcategory\n",
    "\n",
    "by_category = first_month_sales.groupby(['item_category_id', 'shop_id'])['first_month_sales'].mean().to_frame('prediction_category').reset_index()\n",
    "by_category['prediction_category'] = np.clip(by_category['prediction_category'], 0, 20)\n",
    "\n",
    "by_subcategory = first_month_sales.groupby(['subcategory', 'shop_id'])['first_month_sales'].mean().to_frame('prediction_subcategory').reset_index()\n",
    "by_subcategory['prediction_subcategory'] = np.clip(by_subcategory['prediction_subcategory'], 0, 20)"
   ]
  },
  {
   "cell_type": "code",
   "execution_count": 119,
   "metadata": {},
   "outputs": [
    {
     "name": "stdout",
     "output_type": "stream",
     "text": [
      "Baseline: 10.711347826086957\n",
      "Category: 5.794799709517537\n",
      "Subcategory: 39.57677661994185\n"
     ]
    }
   ],
   "source": [
    "# guessing avg. of first month for same category\n",
    "prediction_df = nov_train_aggregated.merge(items, on=['item_id'], how='left').merge(by_category, on=['item_category_id', 'shop_id'], how='outer')\n",
    "prediction_df = prediction_df.merge(by_subcategory, on=['subcategory', 'shop_id'], how='outer')\n",
    "print(\"Baseline:\", np.square(prediction_df['clipped'].fillna(0)).sum() / len(nov_stores) / len(nov_new_items))\n",
    "print(\"Category:\", np.square(prediction_df['clipped'].fillna(0) - prediction_df['prediction_category'].fillna(0)).sum() / len(nov_stores) / len(nov_new_items))\n",
    "print(\"Subcategory:\", np.square(prediction_df['clipped'].fillna(0) - prediction_df['prediction_subcategory'].fillna(0)).sum() / len(nov_stores) / len(nov_new_items))"
   ]
  },
  {
   "cell_type": "code",
   "execution_count": 120,
   "metadata": {},
   "outputs": [
    {
     "name": "stdout",
     "output_type": "stream",
     "text": [
      "Conditional: 39.72369839036163\n"
     ]
    }
   ],
   "source": [
    "# either or\n",
    "prediction_df['na_conditional'] = np.where(prediction_df['prediction_subcategory'].isna(), prediction_df['prediction_category'], prediction_df['prediction_subcategory'])\n",
    "print(\"Conditional:\", np.square(prediction_df['clipped'].fillna(0) - prediction_df['na_conditional'].fillna(0)).sum() / len(nov_stores) / len(nov_new_items))"
   ]
  },
  {
   "cell_type": "markdown",
   "metadata": {},
   "source": [
    "# Investigating shortcomings"
   ]
  },
  {
   "cell_type": "code",
   "execution_count": 102,
   "metadata": {},
   "outputs": [
    {
     "data": {
      "text/html": [
       "<div>\n",
       "<style scoped>\n",
       "    .dataframe tbody tr th:only-of-type {\n",
       "        vertical-align: middle;\n",
       "    }\n",
       "\n",
       "    .dataframe tbody tr th {\n",
       "        vertical-align: top;\n",
       "    }\n",
       "\n",
       "    .dataframe thead th {\n",
       "        text-align: right;\n",
       "    }\n",
       "</style>\n",
       "<table border=\"1\" class=\"dataframe\">\n",
       "  <thead>\n",
       "    <tr style=\"text-align: right;\">\n",
       "      <th></th>\n",
       "      <th>shop_id</th>\n",
       "      <th>item_id</th>\n",
       "      <th>answers</th>\n",
       "      <th>clipped</th>\n",
       "      <th>item_name</th>\n",
       "      <th>item_category_id</th>\n",
       "      <th>subcategory</th>\n",
       "      <th>prediction_category</th>\n",
       "      <th>prediction_subcategory</th>\n",
       "      <th>na_conditional</th>\n",
       "    </tr>\n",
       "  </thead>\n",
       "  <tbody>\n",
       "    <tr>\n",
       "      <th>0</th>\n",
       "      <td>2</td>\n",
       "      <td>1534</td>\n",
       "      <td>1.0</td>\n",
       "      <td>1.0</td>\n",
       "      <td>Assassin's Creed. Сага о Новом Свете [PC, русс...</td>\n",
       "      <td>28</td>\n",
       "      <td>Assassin's</td>\n",
       "      <td>6.228070</td>\n",
       "      <td>5.863636</td>\n",
       "      <td>5.863636</td>\n",
       "    </tr>\n",
       "    <tr>\n",
       "      <th>1</th>\n",
       "      <td>2</td>\n",
       "      <td>1542</td>\n",
       "      <td>3.0</td>\n",
       "      <td>3.0</td>\n",
       "      <td>Assassin's Creed: Единство. Bastille Edition [...</td>\n",
       "      <td>20</td>\n",
       "      <td>Assassin's</td>\n",
       "      <td>10.931818</td>\n",
       "      <td>5.863636</td>\n",
       "      <td>5.863636</td>\n",
       "    </tr>\n",
       "    <tr>\n",
       "      <th>2</th>\n",
       "      <td>2</td>\n",
       "      <td>1548</td>\n",
       "      <td>4.0</td>\n",
       "      <td>4.0</td>\n",
       "      <td>Assassin's Creed: Единство. Notre Dame Edition...</td>\n",
       "      <td>29</td>\n",
       "      <td>Assassin's</td>\n",
       "      <td>7.714286</td>\n",
       "      <td>5.863636</td>\n",
       "      <td>5.863636</td>\n",
       "    </tr>\n",
       "    <tr>\n",
       "      <th>3</th>\n",
       "      <td>2</td>\n",
       "      <td>1549</td>\n",
       "      <td>6.0</td>\n",
       "      <td>6.0</td>\n",
       "      <td>Assassin's Creed: Единство. Notre Dame Edition...</td>\n",
       "      <td>20</td>\n",
       "      <td>Assassin's</td>\n",
       "      <td>10.931818</td>\n",
       "      <td>5.863636</td>\n",
       "      <td>5.863636</td>\n",
       "    </tr>\n",
       "    <tr>\n",
       "      <th>4</th>\n",
       "      <td>2</td>\n",
       "      <td>1555</td>\n",
       "      <td>29.0</td>\n",
       "      <td>20.0</td>\n",
       "      <td>Assassin's Creed: Единство. Специальное издани...</td>\n",
       "      <td>28</td>\n",
       "      <td>Assassin's</td>\n",
       "      <td>6.228070</td>\n",
       "      <td>5.863636</td>\n",
       "      <td>5.863636</td>\n",
       "    </tr>\n",
       "    <tr>\n",
       "      <th>...</th>\n",
       "      <td>...</td>\n",
       "      <td>...</td>\n",
       "      <td>...</td>\n",
       "      <td>...</td>\n",
       "      <td>...</td>\n",
       "      <td>...</td>\n",
       "      <td>...</td>\n",
       "      <td>...</td>\n",
       "      <td>...</td>\n",
       "      <td>...</td>\n",
       "    </tr>\n",
       "    <tr>\n",
       "      <th>5352</th>\n",
       "      <td>59</td>\n",
       "      <td>21387</td>\n",
       "      <td>1.0</td>\n",
       "      <td>1.0</td>\n",
       "      <td>ХОББИТ: ПУСТОШЬ СМАУГА (реж.версия) (2 диска 3...</td>\n",
       "      <td>38</td>\n",
       "      <td>ХОББИТ:</td>\n",
       "      <td>1.490566</td>\n",
       "      <td>6.727273</td>\n",
       "      <td>6.727273</td>\n",
       "    </tr>\n",
       "    <tr>\n",
       "      <th>5353</th>\n",
       "      <td>59</td>\n",
       "      <td>21389</td>\n",
       "      <td>1.0</td>\n",
       "      <td>1.0</td>\n",
       "      <td>ХОББИТ: ПУСТОШЬ СМАУГА (реж.версия) (5DVD)</td>\n",
       "      <td>40</td>\n",
       "      <td>ХОББИТ:</td>\n",
       "      <td>2.407246</td>\n",
       "      <td>6.727273</td>\n",
       "      <td>6.727273</td>\n",
       "    </tr>\n",
       "    <tr>\n",
       "      <th>5354</th>\n",
       "      <td>59</td>\n",
       "      <td>21430</td>\n",
       "      <td>4.0</td>\n",
       "      <td>4.0</td>\n",
       "      <td>ХРАБРОЕ СЕРДЦЕ  (КОЛЛЕКЦИОННОЕ ИЗДАНИЕ) (2BD)</td>\n",
       "      <td>37</td>\n",
       "      <td>ХРАБРОЕ</td>\n",
       "      <td>1.617512</td>\n",
       "      <td>NaN</td>\n",
       "      <td>1.617512</td>\n",
       "    </tr>\n",
       "    <tr>\n",
       "      <th>5355</th>\n",
       "      <td>59</td>\n",
       "      <td>21627</td>\n",
       "      <td>1.0</td>\n",
       "      <td>1.0</td>\n",
       "      <td>ЧЕЛОВЕК НОЯБРЯ</td>\n",
       "      <td>40</td>\n",
       "      <td>ЧЕЛОВЕК</td>\n",
       "      <td>2.407246</td>\n",
       "      <td>2.000000</td>\n",
       "      <td>2.000000</td>\n",
       "    </tr>\n",
       "    <tr>\n",
       "      <th>5356</th>\n",
       "      <td>59</td>\n",
       "      <td>21670</td>\n",
       "      <td>3.0</td>\n",
       "      <td>3.0</td>\n",
       "      <td>ЧЕРЕПАШКИ-НИНДЗЯ  Сезон 1  Коллекция мультфиль...</td>\n",
       "      <td>40</td>\n",
       "      <td>ЧЕРЕПАШКИ-НИНДЗЯ</td>\n",
       "      <td>2.407246</td>\n",
       "      <td>NaN</td>\n",
       "      <td>2.407246</td>\n",
       "    </tr>\n",
       "  </tbody>\n",
       "</table>\n",
       "<p>5357 rows × 10 columns</p>\n",
       "</div>"
      ],
      "text/plain": [
       "      shop_id  item_id  answers  clipped  \\\n",
       "0           2     1534      1.0      1.0   \n",
       "1           2     1542      3.0      3.0   \n",
       "2           2     1548      4.0      4.0   \n",
       "3           2     1549      6.0      6.0   \n",
       "4           2     1555     29.0     20.0   \n",
       "...       ...      ...      ...      ...   \n",
       "5352       59    21387      1.0      1.0   \n",
       "5353       59    21389      1.0      1.0   \n",
       "5354       59    21430      4.0      4.0   \n",
       "5355       59    21627      1.0      1.0   \n",
       "5356       59    21670      3.0      3.0   \n",
       "\n",
       "                                              item_name  item_category_id  \\\n",
       "0     Assassin's Creed. Сага о Новом Свете [PC, русс...                28   \n",
       "1     Assassin's Creed: Единство. Bastille Edition [...                20   \n",
       "2     Assassin's Creed: Единство. Notre Dame Edition...                29   \n",
       "3     Assassin's Creed: Единство. Notre Dame Edition...                20   \n",
       "4     Assassin's Creed: Единство. Специальное издани...                28   \n",
       "...                                                 ...               ...   \n",
       "5352  ХОББИТ: ПУСТОШЬ СМАУГА (реж.версия) (2 диска 3...                38   \n",
       "5353         ХОББИТ: ПУСТОШЬ СМАУГА (реж.версия) (5DVD)                40   \n",
       "5354      ХРАБРОЕ СЕРДЦЕ  (КОЛЛЕКЦИОННОЕ ИЗДАНИЕ) (2BD)                37   \n",
       "5355                                     ЧЕЛОВЕК НОЯБРЯ                40   \n",
       "5356  ЧЕРЕПАШКИ-НИНДЗЯ  Сезон 1  Коллекция мультфиль...                40   \n",
       "\n",
       "           subcategory  prediction_category  prediction_subcategory  \\\n",
       "0           Assassin's             6.228070                5.863636   \n",
       "1           Assassin's            10.931818                5.863636   \n",
       "2           Assassin's             7.714286                5.863636   \n",
       "3           Assassin's            10.931818                5.863636   \n",
       "4           Assassin's             6.228070                5.863636   \n",
       "...                ...                  ...                     ...   \n",
       "5352           ХОББИТ:             1.490566                6.727273   \n",
       "5353           ХОББИТ:             2.407246                6.727273   \n",
       "5354           ХРАБРОЕ             1.617512                     NaN   \n",
       "5355           ЧЕЛОВЕК             2.407246                2.000000   \n",
       "5356  ЧЕРЕПАШКИ-НИНДЗЯ             2.407246                     NaN   \n",
       "\n",
       "      na_conditional  \n",
       "0           5.863636  \n",
       "1           5.863636  \n",
       "2           5.863636  \n",
       "3           5.863636  \n",
       "4           5.863636  \n",
       "...              ...  \n",
       "5352        6.727273  \n",
       "5353        6.727273  \n",
       "5354        1.617512  \n",
       "5355        2.000000  \n",
       "5356        2.407246  \n",
       "\n",
       "[5357 rows x 10 columns]"
      ]
     },
     "execution_count": 102,
     "metadata": {},
     "output_type": "execute_result"
    }
   ],
   "source": [
    "prediction_df['error'] = prediction_df['clipped'] - prediction_df['prediction_category']"
   ]
  }
 ],
 "metadata": {
  "kernelspec": {
   "display_name": "tradingClub",
   "language": "python",
   "name": "python3"
  },
  "language_info": {
   "codemirror_mode": {
    "name": "ipython",
    "version": 3
   },
   "file_extension": ".py",
   "mimetype": "text/x-python",
   "name": "python",
   "nbconvert_exporter": "python",
   "pygments_lexer": "ipython3",
   "version": "3.12.5"
  }
 },
 "nbformat": 4,
 "nbformat_minor": 2
}
