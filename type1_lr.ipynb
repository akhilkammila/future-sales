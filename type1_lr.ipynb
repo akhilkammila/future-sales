{
 "cells": [
  {
   "cell_type": "markdown",
   "metadata": {},
   "source": [
    "# Goal: Fit LR on type 1 data\n",
    "\n",
    "- Use features to minimize error from certain classes of data\n",
    "    - released in prev. month: need to use daily data to create a feature to indicate fall-off or ramp-up\n",
    "    - released before: need to be able to fit trends like (linearly decreasing, linearly increasing)\n",
    "        - released soon ago (few months ago, starting to fall off)\n",
    "\n",
    "- First, filter by category ()\n",
    "- Features list\n",
    "    - 1. previous month sales, same shop/item (very basic)"
   ]
  },
  {
   "cell_type": "code",
   "execution_count": 1,
   "metadata": {},
   "outputs": [],
   "source": [
    "import pandas as pd\n",
    "import numpy as np\n",
    "import matplotlib.pyplot as plt\n",
    "import seaborn as sns\n",
    "import statsmodels.api as sm\n",
    "import itertools"
   ]
  },
  {
   "cell_type": "code",
   "execution_count": 2,
   "metadata": {},
   "outputs": [],
   "source": [
    "DIRECTORY = './data/'\n",
    "categories = pd.read_csv(DIRECTORY + 'item_categories.csv')\n",
    "items = pd.read_csv(DIRECTORY + 'items.csv')\n",
    "shops = pd.read_csv(DIRECTORY + 'shops.csv')\n",
    "train = pd.read_csv(DIRECTORY + 'sales_train.csv', parse_dates=['date'], date_format='%d.%m.%Y')\n",
    "test = pd.read_csv(DIRECTORY + 'test.csv')"
   ]
  },
  {
   "cell_type": "code",
   "execution_count": null,
   "metadata": {},
   "outputs": [],
   "source": [
    "# Filter by \n",
    "train['month'] = train['date'].dt.to_period('M')\n",
    "chosen_month = pd.to_datetime('11-2014').to_period('M')\n",
    "\n",
    "sub_train = train[train['month'] < chosen_month]\n",
    "sub_test = train[train['month'] == chosen_month]"
   ]
  }
 ],
 "metadata": {
  "kernelspec": {
   "display_name": "tradingClub",
   "language": "python",
   "name": "python3"
  },
  "language_info": {
   "codemirror_mode": {
    "name": "ipython",
    "version": 3
   },
   "file_extension": ".py",
   "mimetype": "text/x-python",
   "name": "python",
   "nbconvert_exporter": "python",
   "pygments_lexer": "ipython3",
   "version": "3.12.5"
  }
 },
 "nbformat": 4,
 "nbformat_minor": 2
}
